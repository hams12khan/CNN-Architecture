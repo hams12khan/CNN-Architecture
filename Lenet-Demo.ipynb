{
 "cells": [
  {
   "cell_type": "code",
   "execution_count": 1,
   "id": "b986c9aa",
   "metadata": {},
   "outputs": [],
   "source": [
    "import tensorflow as tf"
   ]
  },
  {
   "cell_type": "code",
   "execution_count": 2,
   "id": "84de9329",
   "metadata": {},
   "outputs": [],
   "source": [
    "from keras.datasets import mnist\n",
    "import numpy as np\n",
    "import pandas as pd \n",
    "import matplotlib.pyplot as plt"
   ]
  },
  {
   "cell_type": "code",
   "execution_count": 3,
   "id": "ca6e637c",
   "metadata": {},
   "outputs": [],
   "source": [
    "from tensorflow.keras import Sequential\n",
    "from tensorflow.keras.layers import Dense,Conv2D,MaxPool2D,Flatten"
   ]
  },
  {
   "cell_type": "code",
   "execution_count": 4,
   "id": "b10a91fc",
   "metadata": {
    "scrolled": false
   },
   "outputs": [],
   "source": [
    "(X_train,y_train),(X_test,y_test)=mnist.load_data()"
   ]
  },
  {
   "cell_type": "code",
   "execution_count": 5,
   "id": "44a9f401",
   "metadata": {},
   "outputs": [
    {
     "data": {
      "image/png": "[encoded data removed]",
      "text/plain": [
       "<Figure size 1200x500 with 8 Axes>"
      ]
     },
     "metadata": {},
     "output_type": "display_data"
    }
   ],
   "source": [
    "import matplotlib.pyplot as plt \n",
    "import random\n",
    "plt.figure(figsize = (12,5))\n",
    "for i in range(8):\n",
    "  ind = random.randint(0, len(X_train))\n",
    "  plt.subplot(240+1+i)\n",
    "  plt.imshow(X_train[ind])"
   ]
  },
  {
   "cell_type": "markdown",
   "id": "e7cc36df",
   "metadata": {},
   "source": [
    "# 2. Preprocessing data\n",
    "This task includes the following steps:\n",
    "\n",
    "Reshape images into the required size of Keras\n",
    "Convert integer values into float values\n",
    "Normalize data\n",
    "One-hot encoding labels"
   ]
  },
  {
   "cell_type": "code",
   "execution_count": 6,
   "id": "0149f298",
   "metadata": {},
   "outputs": [],
   "source": [
    "from keras.utils import to_categorical\n",
    "def preprocess_data(X_train, y_train, X_test, y_test):\n",
    "  # reshape images to the required size of Keras\n",
    "  X_train = X_train.reshape(X_train.shape[0], X_train.shape[1], X_train.shape[2], 1)\n",
    "  X_test = X_test.reshape(X_test.shape[0], X_test.shape[1], X_test.shape[2], 1)\n",
    "  \n",
    "  # convert image values from integers to floats\n",
    "  X_train = X_train.astype('float32')\n",
    "  X_test = X_test.astype('float32')\n",
    "  \n",
    "  # normalization\n",
    "  X_train = X_train/255.0\n",
    "  X_test_norm = X_test/255.0\n",
    "  \n",
    "  # One-hot encoding label \n",
    "  y_train = to_categorical(y_train)\n",
    "  y_test = to_categorical(y_test)\n",
    "  \n",
    "  return X_train, y_train, X_test, y_test\n",
    "X_train, y_train, X_test, y_test=preprocess_data(X_train, y_train, X_test, y_test)"
   ]
  },
  {
   "cell_type": "markdown",
   "id": "fd944a0d",
   "metadata": {},
   "source": [
    "# Lenet Architecture"
   ]
  },
  {
   "cell_type": "code",
   "execution_count": 7,
   "id": "e6e1b486",
   "metadata": {},
   "outputs": [],
   "source": [
    "#creating the CNN\n",
    "#First convolutional layer\n",
    "model=Sequential()\n",
    "model.add(Conv2D(6,kernel_size=(5,5),activation=\"relu\",padding='valid',input_shape=(28,28,1)))\n",
    "model.add(MaxPool2D(pool_size=(2, 2),strides=2))"
   ]
  },
  {
   "cell_type": "code",
   "execution_count": 8,
   "id": "bd2034c8",
   "metadata": {},
   "outputs": [],
   "source": [
    "#Second convolutional layer\n",
    "model.add(Conv2D(16,kernel_size=(5,5),activation=\"relu\",padding='valid'))\n",
    "model.add(MaxPool2D(pool_size=(2,2),strides=2))"
   ]
  },
  {
   "cell_type": "code",
   "execution_count": 9,
   "id": "85045df2",
   "metadata": {},
   "outputs": [],
   "source": [
    "#Flatten the layer after passing the data in 2  Convolution layer\n",
    "model.add(Flatten())"
   ]
  },
  {
   "cell_type": "code",
   "execution_count": 10,
   "id": "0c62277b",
   "metadata": {},
   "outputs": [],
   "source": [
    "#Simple making fully forword connected layers\n",
    "model.add(Dense(120,activation='tanh'))\n",
    "model.add(Dense(84,activation='tanh'))\n",
    "model.add(Dense(10,activation='softmax'))\n",
    "model.compile(optimizer='adam',metrics=['accuracy'],loss=\"categorical_crossentropy\")"
   ]
  },
  {
   "cell_type": "code",
   "execution_count": 11,
   "id": "52d71b68",
   "metadata": {},
   "outputs": [
    {
     "name": "stdout",
     "output_type": "stream",
     "text": [
      "Model: \"sequential\"\n",
      "_________________________________________________________________\n",
      " Layer (type)                Output Shape              Param #   \n",
      "=================================================================\n",
      " conv2d (Conv2D)             (None, 24, 24, 6)         156       \n",
      "                                                                 \n",
      " max_pooling2d (MaxPooling2D  (None, 12, 12, 6)        0         \n",
      " )                                                               \n",
      "                                                                 \n",
      " conv2d_1 (Conv2D)           (None, 8, 8, 16)          2416      \n",
      "                                                                 \n",
      " max_pooling2d_1 (MaxPooling  (None, 4, 4, 16)         0         \n",
      " 2D)                                                             \n",
      "                                                                 \n",
      " flatten (Flatten)           (None, 256)               0         \n",
      "                                                                 \n",
      " dense (Dense)               (None, 120)               30840     \n",
      "                                                                 \n",
      " dense_1 (Dense)             (None, 84)                10164     \n",
      "                                                                 \n",
      " dense_2 (Dense)             (None, 10)                850       \n",
      "                                                                 \n",
      "=================================================================\n",
      "Total params: 44,426\n",
      "Trainable params: 44,426\n",
      "Non-trainable params: 0\n",
      "_________________________________________________________________\n"
     ]
    }
   ],
   "source": [
    "model.summary()"
   ]
  },
  {
   "cell_type": "code",
   "execution_count": 12,
   "id": "6fdf7ad8",
   "metadata": {},
   "outputs": [],
   "source": [
    "#Early stopping\n",
    "early_stop=tf.keras.callbacks.EarlyStopping(\n",
    "    monitor=\"val_loss\",\n",
    "    min_delta=0.001,\n",
    "    patience=2,\n",
    "    verbose=1,\n",
    "    mode=\"auto\",\n",
    "    baseline=None,\n",
    "    restore_best_weights=False\n",
    ")"
   ]
  },
  {
   "cell_type": "code",
   "execution_count": 13,
   "id": "61ccb6fa",
   "metadata": {},
   "outputs": [
    {
     "name": "stdout",
     "output_type": "stream",
     "text": [
      "Epoch 1/100\n",
      "469/469 [==============================] - 12s 24ms/step - loss: 0.2650 - accuracy: 0.9258 - val_loss: 0.0864 - val_accuracy: 0.9736\n",
      "Epoch 2/100\n",
      "469/469 [==============================] - 11s 24ms/step - loss: 0.0738 - accuracy: 0.9775 - val_loss: 0.0708 - val_accuracy: 0.9781\n",
      "Epoch 3/100\n",
      "469/469 [==============================] - 15s 32ms/step - loss: 0.0525 - accuracy: 0.9844 - val_loss: 0.0617 - val_accuracy: 0.9817\n",
      "Epoch 4/100\n",
      "469/469 [==============================] - 16s 33ms/step - loss: 0.0411 - accuracy: 0.9874 - val_loss: 0.0534 - val_accuracy: 0.9838\n",
      "Epoch 5/100\n",
      "469/469 [==============================] - 13s 27ms/step - loss: 0.0340 - accuracy: 0.9896 - val_loss: 0.0660 - val_accuracy: 0.9800\n",
      "Epoch 6/100\n",
      "469/469 [==============================] - 14s 31ms/step - loss: 0.0283 - accuracy: 0.9913 - val_loss: 0.0506 - val_accuracy: 0.9853\n",
      "Epoch 7/100\n",
      "469/469 [==============================] - 13s 28ms/step - loss: 0.0236 - accuracy: 0.9930 - val_loss: 0.0563 - val_accuracy: 0.9829\n",
      "Epoch 8/100\n",
      "469/469 [==============================] - 12s 25ms/step - loss: 0.0208 - accuracy: 0.9937 - val_loss: 0.0513 - val_accuracy: 0.9847\n",
      "Epoch 8: early stopping\n"
     ]
    },
    {
     "data": {
      "text/plain": [
       "<keras.callbacks.History at 0x2791fd2bac0>"
      ]
     },
     "execution_count": 13,
     "metadata": {},
     "output_type": "execute_result"
    }
   ],
   "source": [
    "model.fit(X_train,y_train,epochs=100,batch_size=128,callbacks=early_stop,validation_data=(X_test,y_test),verbose=1)"
   ]
  },
  {
   "cell_type": "code",
   "execution_count": 14,
   "id": "e588522c",
   "metadata": {},
   "outputs": [
    {
     "data": {
      "text/plain": [
       "\"y_pred=[]\\nfor i in range(len(X_test)):\\n    img=X_test[i]\\n    img=img.reshape(1,28,28,1)\\n    img=img.astype('float32')\\n    img=img/255.0\\n    vec_p = model.predict(img)\\n    # determine the label corresponding to vector vec_p\\n    y_p = np.argmax(vec_p)\\n    y_pred.append(y_p)\\ny_pred=np.asarray(y_pred)\\ny_pred\""
      ]
     },
     "execution_count": 14,
     "metadata": {},
     "output_type": "execute_result"
    }
   ],
   "source": [
    "#prediction \n",
    "\"\"\"y_pred=[]\n",
    "for i in range(len(X_test)):\n",
    "    img=X_test[i]\n",
    "    img=img.reshape(1,28,28,1)\n",
    "    img=img.astype('float32')\n",
    "    img=img/255.0\n",
    "    vec_p = model.predict(img)\n",
    "    # determine the label corresponding to vector vec_p\n",
    "    y_p = np.argmax(vec_p)\n",
    "    y_pred.append(y_p)\n",
    "y_pred=np.asarray(y_pred)\n",
    "y_pred\"\"\""
   ]
  },
  {
   "cell_type": "code",
   "execution_count": 15,
   "id": "d65d9a0d",
   "metadata": {},
   "outputs": [
    {
     "data": {
      "image/png": "[encoded data removed]",
      "text/plain": [
       "<PIL.Image.Image image mode=RGBA size=275x128>"
      ]
     },
     "execution_count": 15,
     "metadata": {},
     "output_type": "execute_result"
    }
   ],
   "source": [
    "import visualkeras\n",
    "visualkeras.layered_view(model)\n"
   ]
  },
  {
   "cell_type": "code",
   "execution_count": null,
   "id": "416c3e29",
   "metadata": {},
   "outputs": [],
   "source": []
  }
 ],
 "metadata": {
  "kernelspec": {
   "display_name": "Python 3 (ipykernel)",
   "language": "python",
   "name": "python3"
  },
  "language_info": {
   "codemirror_mode": {
    "name": "ipython",
    "version": 3
   },
   "file_extension": ".py",
   "mimetype": "text/x-python",
   "name": "python",
   "nbconvert_exporter": "python",
   "pygments_lexer": "ipython3",
   "version": "3.9.13"
  }
 },
 "nbformat": 4,
 "nbformat_minor": 5
}
